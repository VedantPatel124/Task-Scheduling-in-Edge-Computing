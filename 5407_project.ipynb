{
  "nbformat": 4,
  "nbformat_minor": 0,
  "metadata": {
    "colab": {
      "name": "5407-project.ipynb",
      "provenance": [],
      "collapsed_sections": []
    },
    "kernelspec": {
      "name": "python3",
      "display_name": "Python 3"
    },
    "language_info": {
      "name": "python"
    }
  },
  "cells": [
    {
      "cell_type": "code",
      "execution_count": null,
      "metadata": {
        "id": "Q_T1_i8FZKPY"
      },
      "outputs": [],
      "source": [
        "# import all pacckages required\n",
        "import random\n",
        "import copy\n",
        "import matplotlib.pyplot as plt\n",
        "import numpy as np"
      ]
    },
    {
      "cell_type": "code",
      "source": [
        "class bcolors:\n",
        "    HEADER = '\\033[95m'\n",
        "    OKBLUE = '\\033[94m'\n",
        "    OKCYAN = '\\033[96m'\n",
        "    OKGREEN = '\\033[92m'\n",
        "    WARNING = '\\033[93m'\n",
        "    FAIL = '\\033[91m'\n",
        "    ENDC = '\\033[0m'\n",
        "    BOLD = '\\033[1m'\n",
        "    UNDERLINE = '\\033[4m'"
      ],
      "metadata": {
        "id": "ibwdMLqm66uS"
      },
      "execution_count": null,
      "outputs": []
    },
    {
      "cell_type": "code",
      "source": [
        "# Function to generate a single task with random values\n",
        "def init_task(dataRate,dataSize,workload):\n",
        "  task = {\n",
        "      \"dataRate\": dataRate,\n",
        "      \"dataSize\": dataSize,\n",
        "      \"workload\": workload,\n",
        "  }\n",
        "  return task"
      ],
      "metadata": {
        "id": "6i3hKTO3CowF"
      },
      "execution_count": null,
      "outputs": []
    },
    {
      "cell_type": "code",
      "source": [
        "# Function to generate multiple tasks by calling init_task()\n",
        "def generateTasks(numTasks,dataRate,dataSize,workload):\n",
        "  tasks=[]\n",
        "  for i in range(numTasks):\n",
        "    if(dataRate == 0):\n",
        "      dr = random.randrange(50,100,10)\n",
        "    else: \n",
        "      dr= dataRate\n",
        "    \n",
        "    if(dataSize == 0):\n",
        "      ds = (random.randrange(5,45,5)/10)\n",
        "    else:\n",
        "      ds = dataSize\n",
        "    \n",
        "    if(workload == 0):\n",
        "      wl = random.randrange(30,55,5)\n",
        "    else: \n",
        "      wl = workload\n",
        "\n",
        "    task=init_task(dr,ds,wl)\n",
        "    tasks.append(task)\n",
        "  return tasks "
      ],
      "metadata": {
        "id": "-d5tQvEhdU-m"
      },
      "execution_count": null,
      "outputs": []
    },
    {
      "cell_type": "code",
      "source": [
        "# Function to create a server with given values\n",
        "def init_server(buffer,freq,t_frac,arrivalRate,serviceRate):\n",
        "  server={\n",
        "      'buffer': buffer,\n",
        "      'frequency': freq,\n",
        "      'timeFraction' : t_frac,\n",
        "      'arrivalRate': arrivalRate,\n",
        "      'serviceRate': serviceRate,\n",
        "      'prev_delay': 0\n",
        "  }\n",
        "  return server"
      ],
      "metadata": {
        "id": "KhkXm-CjqyVY"
      },
      "execution_count": null,
      "outputs": []
    },
    {
      "cell_type": "code",
      "source": [
        "# Function to geenrate multiple servers with given/random values\n",
        "def generateServers(numServers,buffer,freq,arrRate,svcRate):\n",
        "  servers = []\n",
        "  for i in range(numServers):\n",
        "\n",
        "    if(buffer == 0):\n",
        "      taskBufferCapacity = random.randrange(4,11,1)\n",
        "    else: \n",
        "      taskBufferCapacity = buffer\n",
        "\n",
        "    if(freq == 0):\n",
        "      frequency = random.randrange(1500,3300,300)\n",
        "    else:\n",
        "      frequency = freq\n",
        "\n",
        "    if(arrRate == 0):\n",
        "      arrivalRate = random.randrange(20,50,5)\n",
        "    else:\n",
        "      arrivalRate = arrRate\n",
        "\n",
        "    if(svcRate == 0):\n",
        "      serviceRate = random.randrange(260,310,10);\n",
        "    else: \n",
        "      serviceRate = svcRate\n",
        "\n",
        "    if(numServers == 4):\n",
        "      time_fraction = 0.5\n",
        "    elif(numServers == 5):\n",
        "      time_fraction = 0.625    \n",
        "    elif(numServers == 6):\n",
        "      time_fraction = 0.75\n",
        "    elif(numServers == 7):\n",
        "      time_fraction = 0.875\n",
        "    else:\n",
        "      time_fraction = 0.9\n",
        "    server = init_server(taskBufferCapacity,frequency,time_fraction,arrivalRate,serviceRate)\n",
        "    servers.append(server)\n",
        "  return servers"
      ],
      "metadata": {
        "id": "u6gwDcf5quQY"
      },
      "execution_count": null,
      "outputs": []
    },
    {
      "cell_type": "code",
      "source": [
        "def greedyAlgo(run_tasks,generatedServersOriginal,generatedTasksOriginal,server_num):\n",
        "\n",
        "  #make a copy of generated tasks and severs\n",
        "  generatedServers = []\n",
        "  generatedTasks = []\n",
        "\n",
        "  #Duplicate Servers\n",
        "  for li in generatedServersOriginal:\n",
        "    d2 = copy.deepcopy(li)\n",
        "    generatedServers.append(d2)\n",
        "  \n",
        "  #Duplicate tasks\n",
        "  for li in generatedTasksOriginal:\n",
        "    d2 = copy.deepcopy(li)\n",
        "    generatedTasks.append(d2)\n",
        "\n",
        "  # iterating through tasks\n",
        "  server_alloc = []\n",
        "  delay = []\n",
        "  # total_time = 0\n",
        "  for i in range(run_tasks):\n",
        "    #iterate through servers\n",
        "    best_time = 1000\n",
        "    best_server = -1\n",
        "    best_delay = 0\n",
        "    for j in range(server_num):\n",
        "      if(generatedServers[j]['buffer']>=1):\n",
        "        task_arrival = generatedServers[j]['arrivalRate'] * generatedServers[j]['timeFraction']                         # Aij\n",
        "        # transmission_delay = task_arrival * (generatedTasks[i]['dataSize'] / generatedTasks[i]['dataRate'])           # Sum of transmission delay of all tasks\n",
        "        transmission_delay = (generatedTasks[i]['dataSize']/generatedTasks[i]['dataRate'])                              # Lij transmission delay of each task\n",
        "        computation_time = (generatedTasks[i]['workload'] / generatedServers[j]['frequency'])\n",
        "        computation_time = computation_time/1000000\n",
        "        # queuing_delay = task_arrival * (1/ (generatedServers[j]['serviceRate'] - task_arrival))                       # Sum of queuing delay for all tasks\n",
        "        queuing_delay = (1/ (generatedServers[j]['serviceRate'] - task_arrival))                                        # queuing delay for each task\n",
        "        total_time = transmission_delay + queuing_delay + computation_time + generatedServers[j]['prev_delay']\n",
        "        total_delay = transmission_delay + queuing_delay\n",
        "        \n",
        "        #check if solution is better than previous\n",
        "        if(best_time > total_time):\n",
        "          best_time = total_time\n",
        "          best_server = j\n",
        "          best_delay = total_delay\n",
        "        else:\n",
        "          # print('previous best time - {} for server - {}'.format(best_time, best_server))\n",
        "          break\n",
        "      # else: \n",
        "      #   print('Server :  {} cannot accomodate more tasks'.format(j))\n",
        "    generatedServers[best_server]['buffer'] = generatedServers[best_server]['buffer'] - 1\n",
        "    generatedServers[best_server]['prev_delay'] = generatedServers[best_server]['prev_delay'] + best_time\n",
        "    # print('Task: {} ; alloted to server : {} , best time: {}'.format(i,best_server,best_time))\n",
        "    server_alloc.append(best_server)\n",
        "    delay.append(best_delay)\n",
        "  return server_alloc,delay#,generatedServers"
      ],
      "metadata": {
        "id": "ZyILrdkWwTX0"
      },
      "execution_count": null,
      "outputs": []
    },
    {
      "cell_type": "code",
      "source": [
        "# Run Greedy algo for creating graph no. of tasks vs delay\n",
        "def tasks_vs_delay(server,task):\n",
        "  #Define no. of tasks and servers\n",
        "  # task_num = 30\n",
        "  # server_num = 4\n",
        "\n",
        "  #generate tasks and servers\n",
        "  generatedTasksOriginal = generateTasks(task['task_num'],task['dataRate'],task['dataSize'],task['workload'])\n",
        "  generatedServersOriginal = generateServers(server['server_num'],server['buffer'],server['freq'],server['arrRate'],server['svcRate'])\n",
        "\n",
        "  print(bcolors.OKBLUE + 'Server config for this simulation :')\n",
        "  print(generatedServersOriginal)\n",
        "  print(bcolors.ENDC)\n",
        "\n",
        "  print(bcolors.OKBLUE + 'Task config for this simulation :')\n",
        "  print(generatedTasksOriginal)\n",
        "  print(bcolors.ENDC)\n",
        "\n",
        "  delays = []\n",
        "  serverallocs = []\n",
        "  tasks = []\n",
        "  for i in range(5):\n",
        "    tasks_to_run = 10 + 5*i\n",
        "    tasks.append(tasks_to_run)\n",
        "    # print(tasks_to_run)\n",
        "    serverallocation, taskdelay = greedyAlgo(int(tasks_to_run),generatedServersOriginal,generatedTasksOriginal,server['server_num'])\n",
        "    delays.append(taskdelay)\n",
        "    serverallocs.append(serverallocation)\n",
        "  # print(delays)\n",
        "  total_delays = []\n",
        "  for i in range(5):\n",
        "    total_delay = sum(delays[i])\n",
        "    total_delays.append(total_delay)\n",
        "  print(total_delays)\n",
        "\n",
        "  #Plot graph for task vs delay\n",
        "  plt.bar(tasks,total_delays, color='black', width=1)\n",
        "  plt.show()"
      ],
      "metadata": {
        "id": "NgN5GairypgS"
      },
      "execution_count": null,
      "outputs": []
    },
    {
      "cell_type": "code",
      "source": [
        "print(bcolors.BOLD + bcolors.FAIL   + \"Paper accurate graph\")\n",
        "print(bcolors.ENDC)\n",
        "tasks_vs_delay({'server_num':4,'buffer': 10, 'freq':1800,'arrRate':25,'svcRate':250},{'task_num': 30,'dataRate': 100,'dataSize': 1.5,'workload':40})\n",
        "\n",
        "print(bcolors.BOLD + bcolors.FAIL   + \"Random generated graph\")\n",
        "print(bcolors.ENDC)\n",
        "tasks_vs_delay({'server_num':4,'buffer': 10, 'freq':1800,'arrRate':25,'svcRate':250},{'task_num': 30,'dataRate': 0,'dataSize': 0,'workload':0})"
      ],
      "metadata": {
        "id": "oqI-CCR92stf"
      },
      "execution_count": null,
      "outputs": []
    },
    {
      "cell_type": "code",
      "source": [
        "# Function for service rate vs delay plot\n",
        "def service_rate_vs_delay(server,generatedTasksOriginal):\n",
        "  # generatedTasksOriginal = generateTasks(task['task_num'],task['dataRate'],task['dataSize'],task['workload'])    \n",
        "  generatedServersOriginal = generateServers(server['server_num'],server['buffer'],server['freq'],server['arrRate'],server['svcRate'])\n",
        "\n",
        "  # print(bcolors.OKBLUE + 'Server config for this simulation :')\n",
        "  # print(generatedServersOriginal)\n",
        "  # print(bcolors.ENDC)\n",
        "\n",
        "  # print(bcolors.OKBLUE + 'Task config for this simulation :')\n",
        "  # print(generatedTasksOriginal)\n",
        "  # print(bcolors.ENDC)\n",
        "\n",
        "  serverallocation, taskdelay = greedyAlgo(int(len(generatedTasksOriginal)),generatedServersOriginal,generatedTasksOriginal,server['server_num'])\n",
        "  \n",
        "  print(sum(taskdelay))\n",
        "  return sum(taskdelay)\n",
        "\n",
        "svc_delays = []\n",
        "svcrates = []\n",
        "generatedTasksOriginal = generateTasks(30,100,2,55)\n",
        "for i in range(5):\n",
        "  svcrate = 250 + 20*i\n",
        "  delay = service_rate_vs_delay({'server_num':8,'buffer': 10, 'freq':2500,'arrRate':45,'svcRate':svcrate},generatedTasksOriginal) #{'task_num': 30,'dataRate': 0,'dataSize': 0,'workload':0})\n",
        "  svc_delays.append(delay)\n",
        "  svcrates.append(svcrate)\n",
        "\n",
        "xpoints = np.array(svcrates)\n",
        "ypoints = np.array(svc_delays)\n",
        "plt.plot(xpoints,ypoints,marker='o')"
      ],
      "metadata": {
        "colab": {
          "base_uri": "https://localhost:8080/",
          "height": 377
        },
        "id": "f2CVOjipJUhC",
        "outputId": "ddfe328a-3a1d-4b0b-afad-6119ca5e4090"
      },
      "execution_count": null,
      "outputs": [
        {
          "output_type": "stream",
          "name": "stdout",
          "text": [
            "0.7431980906921242\n",
            "0.7307189542483659\n",
            "0.7202404809619242\n",
            "0.7113172541743965\n",
            "0.7036269430051811\n"
          ]
        },
        {
          "output_type": "execute_result",
          "data": {
            "text/plain": [
              "[<matplotlib.lines.Line2D at 0x7f5542ffe290>]"
            ]
          },
          "metadata": {},
          "execution_count": 119
        },
        {
          "output_type": "display_data",
          "data": {
            "text/plain": [
              "<Figure size 432x288 with 1 Axes>"
            ],
            "image/png": "[encoded data removed]"
          },
          "metadata": {
            "needs_background": "light"
          }
        }
      ]
    }
  ]
}