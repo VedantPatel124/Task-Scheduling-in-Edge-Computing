{
 "cells": [
  {
   "cell_type": "markdown",
   "metadata": {},
   "source": [
    "# Task-Scheduling-in-Edge-Computing"
   ]
  },
  {
   "cell_type": "markdown",
   "metadata": {},
   "source": [
    "Note: You can run this project with randomly generated values for each graph or with the values that we have set. At the beginning of each segment there are lines that are commented out which generate random dataset. Un-comment those lines to generate random data. Keep them commented to run the code with the pre set values."
   ]
  },
  {
   "cell_type": "code",
   "execution_count": 1,
   "metadata": {
    "id": "aX3z2XT3KVLt"
   },
   "outputs": [],
   "source": [
    "# import all pacckages required\n",
    "import random\n",
    "import copy\n",
    "import matplotlib.pyplot as plt\n",
    "import numpy as np\n",
    "\n",
    "# for formatting output\n",
    "class bcolors:\n",
    "    HEADER = '\\033[95m'\n",
    "    OKBLUE = '\\033[94m'\n",
    "    OKCYAN = '\\033[96m'\n",
    "    OKGREEN = '\\033[92m'\n",
    "    WARNING = '\\033[93m'\n",
    "    FAIL = '\\033[91m'\n",
    "    ENDC = '\\033[0m'\n",
    "    BOLD = '\\033[1m'\n",
    "    UNDERLINE = '\\033[4m'\n",
    "\n",
    "# Function to generate a single task with random values\n",
    "def init_task(dataRate,dataSize,workload):\n",
    "  task = {\n",
    "      \"dataRate\": dataRate,\n",
    "      \"dataSize\": dataSize,\n",
    "      \"workload\": workload,\n",
    "  }\n",
    "  return task\n",
    "\n",
    "# Function to generate multiple tasks by calling init_task()\n",
    "def generateTasks(numTasks,dataRate,dataSize,workload):\n",
    "  tasks=[]\n",
    "  for i in range(numTasks):\n",
    "    if(dataRate == 0):\n",
    "      dr = random.randrange(50,100,10)\n",
    "    else: \n",
    "      dr= dataRate\n",
    "    \n",
    "    if(dataSize == 0):\n",
    "      ds = (random.randrange(5,45,5)/10)\n",
    "    else:\n",
    "      ds = dataSize\n",
    "    \n",
    "    if(workload == 0):\n",
    "      wl = random.randrange(30,55,5)\n",
    "    else: \n",
    "      wl = workload\n",
    "\n",
    "    task=init_task(dr,ds,wl)\n",
    "    tasks.append(task)\n",
    "  return tasks \n",
    "\n",
    "# Function to create a server with given values\n",
    "def init_server(buffer,freq,t_frac,arrivalRate,serviceRate):\n",
    "  server={\n",
    "      'buffer': buffer,\n",
    "      'frequency': freq,\n",
    "      'timeFraction' : t_frac,\n",
    "      'arrivalRate': arrivalRate,\n",
    "      'serviceRate': serviceRate,\n",
    "      'prev_delay': 0\n",
    "  }\n",
    "  return server\n",
    "\n",
    "# Function to geenrate multiple servers with given/random values\n",
    "def generateServers(numServers,buffer,freq,arrRate,svcRate):\n",
    "  servers = []\n",
    "  for i in range(numServers):\n",
    "\n",
    "    if(buffer == 0):\n",
    "      taskBufferCapacity = random.randrange(4,11,1)\n",
    "    else: \n",
    "      taskBufferCapacity = buffer\n",
    "\n",
    "    if(freq == 0):\n",
    "      frequency = random.randrange(1500,3300,300)\n",
    "    else:\n",
    "      frequency = freq\n",
    "\n",
    "    if(arrRate == 0):\n",
    "      arrivalRate = random.randrange(20,50,5)\n",
    "    else:\n",
    "      arrivalRate = arrRate\n",
    "\n",
    "    if(svcRate == 0):\n",
    "      serviceRate = random.randrange(250,310,10);\n",
    "    else: \n",
    "      serviceRate = svcRate\n",
    "\n",
    "    if(numServers == 4):\n",
    "      time_fraction = 0.5\n",
    "    elif(numServers == 5):\n",
    "      time_fraction = 0.625    \n",
    "    elif(numServers == 6):\n",
    "      time_fraction = 0.75\n",
    "    elif(numServers == 7):\n",
    "      time_fraction = 0.875\n",
    "    else:\n",
    "      time_fraction = 0.9\n",
    "    server = init_server(taskBufferCapacity,frequency,time_fraction,arrivalRate,serviceRate)\n",
    "    servers.append(server)\n",
    "  return servers"
   ]
  },
  {
   "cell_type": "code",
   "execution_count": 2,
   "metadata": {
    "id": "HW1Tj9CMKkHU"
   },
   "outputs": [],
   "source": [
    "def greedyAlgo(run_tasks,generatedServersOriginal,generatedTasksOriginal,server_num,wup = 30):\n",
    "\n",
    "  #make a copy of generated tasks and severs\n",
    "  generatedServers = []\n",
    "  generatedTasks = []\n",
    "\n",
    "  #Duplicate Servers\n",
    "  for li in generatedServersOriginal:\n",
    "    d2 = copy.deepcopy(li)\n",
    "    generatedServers.append(d2)\n",
    "  \n",
    "  #Duplicate tasks\n",
    "  for li in generatedTasksOriginal:\n",
    "    d2 = copy.deepcopy(li)\n",
    "    generatedTasks.append(d2)\n",
    "\n",
    "  # iterating through tasks\n",
    "  server_alloc = []\n",
    "  greedy_delay = []\n",
    "  total_time = 0\n",
    "  exec_time = []\n",
    "  for i in range(run_tasks):\n",
    "    #iterate through servers\n",
    "    best_time = 1000\n",
    "    best_server = -1\n",
    "    best_delay = 0\n",
    "    for j in range(server_num):\n",
    "      if(generatedServers[j]['buffer']>=1):\n",
    "        task_arrival = generatedServers[j]['arrivalRate'] * generatedServers[j]['timeFraction']                         # Aij\n",
    "        # transmission_delay = task_arrival * (generatedTasks[i]['dataSize'] / generatedTasks[i]['dataRate'])           # Sum of transmission delay of all tasks\n",
    "        transmission_delay = (generatedTasks[i]['dataSize']/generatedTasks[i]['dataRate'])                              # Lij transmission delay of each task\n",
    "        computation_time = (generatedTasks[i]['workload'] / generatedServers[j]['frequency'])\n",
    "        delay_sub = 0\n",
    "        if(generatedServers[j]['prev_delay'] - transmission_delay > 0):\n",
    "          delay_sub = generatedServers[j]['prev_delay'] - transmission_delay\n",
    "        queuing_delay = (1000/ (generatedServers[j]['serviceRate'] - task_arrival))                                        # queuing delay for each task\n",
    "        total_time = transmission_delay + queuing_delay + computation_time + delay_sub\n",
    "        total_delay = transmission_delay + queuing_delay + delay_sub\n",
    "        # print(\"Queue delay - \", queuing_delay, \"Transmission delay - \",transmission_delay)\n",
    "        #check if solution is better than previous\n",
    "        if(best_time > total_time and transmission_delay + queuing_delay < wup):\n",
    "          best_time = total_time\n",
    "          best_server = j\n",
    "          best_delay = total_delay\n",
    "        else:\n",
    "          # print('previous best time - {} for server - {}'.format(best_time, best_server))\n",
    "          break\n",
    "      # else: \n",
    "      #   print('Server :  {} cannot accomodate more tasks'.format(j))\n",
    "    generatedServers[best_server]['buffer'] = generatedServers[best_server]['buffer'] - 1\n",
    "    generatedServers[best_server]['prev_delay'] = generatedServers[best_server]['prev_delay'] + best_time\n",
    "    # print('Task: {} ; alloted to server : {} , best time: {}'.format(i,best_server,best_time))\n",
    "    server_alloc.append(best_server)\n",
    "    greedy_delay.append(best_delay)\n",
    "    exec_time.append(best_time)\n",
    "  return server_alloc,greedy_delay,exec_time#,generatedServers\n",
    "\n"
   ]
  },
  {
   "cell_type": "code",
   "execution_count": 3,
   "metadata": {
    "id": "P13pMJEFLWZv"
   },
   "outputs": [],
   "source": [
    "def swap_server(originalServer, number_servers,start=0):\n",
    "  temp = list(range(start, originalServer)) + list(range(originalServer+1, number_servers-1))\n",
    "  return random.choice(temp)\n",
    "\n",
    "# Tabu search algorithm\n",
    "def tabu_search(generatedServersOriginal,generatedTasksOriginal,greedy_policy_input, greedy_policy_time,tasks_to_run=30,wup =30 ):\n",
    "  #make a copy of generated tasks and severs\n",
    "  generatedServers = []\n",
    "  generatedTasks = []\n",
    "\n",
    "  #Duplicate Servers\n",
    "  for li in generatedServersOriginal:\n",
    "    d2 = copy.deepcopy(li)\n",
    "    generatedServers.append(d2)\n",
    "  \n",
    "  #Duplicate tasks\n",
    "  for li in generatedTasksOriginal:\n",
    "    d2 = copy.deepcopy(li)\n",
    "    generatedTasks.append(d2)\n",
    "\n",
    "  tabu_policy = list(greedy_policy_input)\n",
    "  greedy_time = list(greedy_policy_time)\n",
    "  i=0\n",
    "  while i< tasks_to_run: #Outer loop termination condition TBD\n",
    "    total_time_tabu = []\n",
    "    exec_time = 0\n",
    "    temp = greedy_time[i]\n",
    "    qtemp = tabu_policy[i]\n",
    "    qbest = tabu_policy[i]\n",
    "    h=0\n",
    "    tabulist = []\n",
    "    tabulist.append(tabu_policy[i])\n",
    "    while h< 2:\n",
    "      #Randomly swap allocated server to get qrand \n",
    "      qrand = swap_server(i,8)\n",
    "      if(qrand not in tabulist and qrand <len(generatedServers) and generatedServers[qrand]['buffer'] >= 1):\n",
    "        task_arrival = generatedServers[qrand]['arrivalRate'] * generatedServers[qrand]['timeFraction']                         # Aij  \n",
    "        transmission_delay = (generatedTasksOriginal[i]['dataSize']/generatedTasksOriginal[i]['dataRate'])                              # Lij transmission delay of each task\n",
    "        computation_time = (generatedTasksOriginal[i]['workload'] / generatedServers[qrand]['frequency'])\n",
    "        delay_sub = 0\n",
    "        if(generatedServers[qrand]['prev_delay'] - transmission_delay > 0):\n",
    "          delay_sub = generatedServers[qrand]['prev_delay'] - transmission_delay\n",
    "        # computation_time = computation_time * 10\n",
    "        queuing_delay = (1000/ (generatedServers[qrand]['serviceRate'] - task_arrival))                                        # queuing delay for each task\n",
    "        total_time = transmission_delay + queuing_delay + computation_time + delay_sub\n",
    "        total_delay = transmission_delay + queuing_delay + delay_sub\n",
    "        if(total_delay < temp and transmission_delay + queuing_delay < wup):\n",
    "          # if(i < 2):\n",
    "          #   print(\"Better solution found - \", temp, \" old solution - \",total_delay, \"new server - \",qrand, \" old server - \",tabu_policy[i])\n",
    "          h = 0\n",
    "          exec_time = total_time\n",
    "          temp = total_delay\n",
    "          tabulist.append(qrand)\n",
    "          qtemp = qrand\n",
    "        else:\n",
    "          h = h+1\n",
    "    if(temp < greedy_time[i]):\n",
    "      greedy_time[i] = temp\n",
    "      tabu_policy[i] = qtemp\n",
    "      total_time_tabu.append(exec_time)\n",
    "      generatedServers[qtemp]['buffer'] = generatedServers[qtemp]['buffer'] - 1\n",
    "      generatedServers[qtemp]['prev_delay'] = generatedServers[qtemp]['prev_delay'] + temp\n",
    "    else:\n",
    "      generatedServers[tabu_policy[i]]['buffer'] = generatedServers[tabu_policy[i]]['buffer'] - 1\n",
    "      generatedServers[tabu_policy[i]]['prev_delay'] = generatedServers[tabu_policy[i]]['prev_delay'] + total_time\n",
    "    i = i+1\n",
    "  return tabu_policy, greedy_time,total_time_tabu\n"
   ]
  },
  {
   "cell_type": "code",
   "execution_count": 4,
   "metadata": {
    "id": "KSvxDfNyKxb4"
   },
   "outputs": [
    {
     "name": "stdout",
     "output_type": "stream",
     "text": [
      "[{'buffer': 8, 'frequency': 2400, 'timeFraction': 0.9, 'arrivalRate': 40, 'serviceRate': 300, 'prev_delay': 0}, {'buffer': 5, 'frequency': 2100, 'timeFraction': 0.9, 'arrivalRate': 25, 'serviceRate': 300, 'prev_delay': 0}, {'buffer': 4, 'frequency': 1800, 'timeFraction': 0.9, 'arrivalRate': 25, 'serviceRate': 290, 'prev_delay': 0}, {'buffer': 9, 'frequency': 1800, 'timeFraction': 0.9, 'arrivalRate': 40, 'serviceRate': 270, 'prev_delay': 0}, {'buffer': 4, 'frequency': 2400, 'timeFraction': 0.9, 'arrivalRate': 35, 'serviceRate': 290, 'prev_delay': 0}, {'buffer': 10, 'frequency': 2400, 'timeFraction': 0.9, 'arrivalRate': 25, 'serviceRate': 300, 'prev_delay': 0}, {'buffer': 5, 'frequency': 2100, 'timeFraction': 0.9, 'arrivalRate': 35, 'serviceRate': 290, 'prev_delay': 0}, {'buffer': 5, 'frequency': 2100, 'timeFraction': 0.9, 'arrivalRate': 45, 'serviceRate': 270, 'prev_delay': 0}]\n",
      "[{'dataRate': 70, 'dataSize': 3, 'workload': 30}, {'dataRate': 80, 'dataSize': 2.5, 'workload': 50}, {'dataRate': 80, 'dataSize': 2, 'workload': 30}, {'dataRate': 80, 'dataSize': 3.5, 'workload': 50}, {'dataRate': 60, 'dataSize': 2, 'workload': 45}, {'dataRate': 50, 'dataSize': 3, 'workload': 45}, {'dataRate': 70, 'dataSize': 2, 'workload': 45}, {'dataRate': 90, 'dataSize': 2, 'workload': 35}, {'dataRate': 50, 'dataSize': 2, 'workload': 35}, {'dataRate': 80, 'dataSize': 1, 'workload': 35}, {'dataRate': 60, 'dataSize': 1.5, 'workload': 50}, {'dataRate': 70, 'dataSize': 1.5, 'workload': 40}, {'dataRate': 90, 'dataSize': 2, 'workload': 50}, {'dataRate': 80, 'dataSize': 2.5, 'workload': 40}, {'dataRate': 90, 'dataSize': 3.5, 'workload': 40}, {'dataRate': 90, 'dataSize': 4, 'workload': 40}, {'dataRate': 60, 'dataSize': 2, 'workload': 35}, {'dataRate': 60, 'dataSize': 1.5, 'workload': 30}, {'dataRate': 90, 'dataSize': 3, 'workload': 40}, {'dataRate': 70, 'dataSize': 1, 'workload': 40}, {'dataRate': 50, 'dataSize': 2.5, 'workload': 50}, {'dataRate': 70, 'dataSize': 3.5, 'workload': 35}, {'dataRate': 90, 'dataSize': 3.5, 'workload': 35}, {'dataRate': 90, 'dataSize': 1.5, 'workload': 50}, {'dataRate': 70, 'dataSize': 1, 'workload': 30}, {'dataRate': 90, 'dataSize': 1, 'workload': 50}, {'dataRate': 60, 'dataSize': 3, 'workload': 45}, {'dataRate': 70, 'dataSize': 1, 'workload': 50}, {'dataRate': 80, 'dataSize': 3.5, 'workload': 45}, {'dataRate': 80, 'dataSize': 1, 'workload': 35}]\n"
     ]
    }
   ],
   "source": [
    "#Seeded dataset\n",
    "common_servers=[{\"buffer\":8,\"frequency\":2400,\"timeFraction\":0.9,\"arrivalRate\":40,\"serviceRate\":300,\"prev_delay\":0},{\"buffer\":5,\"frequency\":2100,\"timeFraction\":0.9,\"arrivalRate\":25,\"serviceRate\":300,\"prev_delay\":0},{\"buffer\":4,\"frequency\":1800,\"timeFraction\":0.9,\"arrivalRate\":25,\"serviceRate\":290,\"prev_delay\":0},{\"buffer\":9,\"frequency\":1800,\"timeFraction\":0.9,\"arrivalRate\":40,\"serviceRate\":270,\"prev_delay\":0},{\"buffer\":4,\"frequency\":2400,\"timeFraction\":0.9,\"arrivalRate\":35,\"serviceRate\":290,\"prev_delay\":0},{\"buffer\":10,\"frequency\":2400,\"timeFraction\":0.9,\"arrivalRate\":25,\"serviceRate\":300,\"prev_delay\":0},{\"buffer\":5,\"frequency\":2100,\"timeFraction\":0.9,\"arrivalRate\":35,\"serviceRate\":290,\"prev_delay\":0},{\"buffer\":5,\"frequency\":2100,\"timeFraction\":0.9,\"arrivalRate\":45,\"serviceRate\":270,\"prev_delay\":0}];\n",
    "common_tasks=[{\"dataRate\":70,\"dataSize\":3,\"workload\":30},{\"dataRate\":80,\"dataSize\":2.5,\"workload\":50},{\"dataRate\":80,\"dataSize\":2,\"workload\":30},{\"dataRate\":80,\"dataSize\":3.5,\"workload\":50},{\"dataRate\":60,\"dataSize\":2,\"workload\":45},{\"dataRate\":50,\"dataSize\":3,\"workload\":45},{\"dataRate\":70,\"dataSize\":2,\"workload\":45},{\"dataRate\":90,\"dataSize\":2,\"workload\":35},{\"dataRate\":50,\"dataSize\":2,\"workload\":35},{\"dataRate\":80,\"dataSize\":1,\"workload\":35},{\"dataRate\":60,\"dataSize\":1.5,\"workload\":50},{\"dataRate\":70,\"dataSize\":1.5,\"workload\":40},{\"dataRate\":90,\"dataSize\":2,\"workload\":50},{\"dataRate\":80,\"dataSize\":2.5,\"workload\":40},{\"dataRate\":90,\"dataSize\":3.5,\"workload\":40},{\"dataRate\":90,\"dataSize\":4,\"workload\":40},{\"dataRate\":60,\"dataSize\":2,\"workload\":35},{\"dataRate\":60,\"dataSize\":1.5,\"workload\":30},{\"dataRate\":90,\"dataSize\":3,\"workload\":40},{\"dataRate\":70,\"dataSize\":1,\"workload\":40},{\"dataRate\":50,\"dataSize\":2.5,\"workload\":50},{\"dataRate\":70,\"dataSize\":3.5,\"workload\":35},{\"dataRate\":90,\"dataSize\":3.5,\"workload\":35},{\"dataRate\":90,\"dataSize\":1.5,\"workload\":50},{\"dataRate\":70,\"dataSize\":1,\"workload\":30},{\"dataRate\":90,\"dataSize\":1,\"workload\":50},{\"dataRate\":60,\"dataSize\":3,\"workload\":45},{\"dataRate\":70,\"dataSize\":1,\"workload\":50},{\"dataRate\":80,\"dataSize\":3.5,\"workload\":45},{\"dataRate\":80,\"dataSize\":1,\"workload\":35}];\n",
    "\n",
    "# Uncomment the lines below to randomly generate common tasks and servers for greedy and tabu search algo\n",
    "# It creates common tasks and servers for greedy and tabu search algo\n",
    "# generateServers(8,0,0,0,0)\n",
    "# generateTasks(30,0,0,0)\n",
    "\n",
    "print(common_servers)\n",
    "print(common_tasks)\n"
   ]
  },
  {
   "cell_type": "code",
   "execution_count": 5,
   "metadata": {
    "colab": {
     "base_uri": "https://localhost:8080/",
     "height": 567
    },
    "id": "mMqK4oKxRnV5",
    "outputId": "9f1b97a1-a444-49df-a61f-a25107c339ed"
   },
   "outputs": [
    {
     "name": "stdout",
     "output_type": "stream",
     "text": [
      "greedy delay -  60.04828357946474\n",
      "tabu s delay - >  42.52254031897491\n",
      "Greedy algo is \u001b[91m29.186085289677234% better\u001b[0m\n",
      "greedy delay -  102.871513679264\n",
      "tabu s delay - >  85.8876430223077\n",
      "Greedy algo is \u001b[91m16.50978978486614% better\u001b[0m\n",
      "greedy delay -  189.78699733237383\n",
      "tabu s delay - >  125.62588887312133\n",
      "Greedy algo is \u001b[91m33.806904245862114% better\u001b[0m\n",
      "greedy delay -  276.06581280394164\n",
      "tabu s delay - >  211.2451392840368\n",
      "Greedy algo is \u001b[91m23.480152381613305% better\u001b[0m\n",
      "greedy delay -  444.7096358102913\n",
      "tabu s delay - >  356.63689894920753\n",
      "Greedy algo is \u001b[91m19.80454880421226% better\u001b[0m\n"
     ]
    },
    {
     "data": {
      "image/png": "[encoded data removed]",
      "text/plain": [
       "<Figure size 432x288 with 1 Axes>"
      ]
     },
     "metadata": {
      "needs_background": "light"
     },
     "output_type": "display_data"
    }
   ],
   "source": [
    "def difference(greed_policy, tabu_policy):\n",
    "  print()\n",
    "  print(greed_policy)\n",
    "  for i in range(len(tabu_policy)):\n",
    "    if(greed_policy[i] == tabu_policy[i]):\n",
    "      print(bcolors.ENDC,greed_policy[i], end = \",\")\n",
    "    else:\n",
    "      print(bcolors.FAIL,tabu_policy[i], end = ',')\n",
    "  print(bcolors.ENDC)\n",
    "\n",
    "def perc_diff(greedy_delay, tabu_delay):\n",
    "  diff = 100 * ((sum(greedy_delay) - sum(tabu_delay))/sum(greedy_delay))\n",
    "  print('Greedy algo is ' + bcolors.FAIL + '{}% better'.format(diff) + bcolors.ENDC)\n",
    "\n",
    "def test():\n",
    "  greedy_delays = []\n",
    "  tabu_delays = []\n",
    "  total_tasks = []\n",
    "  for i in range(5):\n",
    "    tasks = 10 + 5*i\n",
    "    total_tasks.append(tasks)\n",
    "    # get greedy policy \n",
    "    greed_policy, delay,total_time = greedyAlgo(tasks,common_servers,common_tasks,len(common_servers))\n",
    "    greedy_delays.append(sum(delay))\n",
    "    print(\"greedy delay - \",sum(delay))\n",
    "    # print(\"greedy Total time - \",sum(total_time))\n",
    "\n",
    "    tabu_policy,tabu_delay,tabu_total_time = tabu_search(common_servers,common_tasks,greed_policy,delay,tasks)\n",
    "    tabu_delays.append(sum(tabu_delay))\n",
    "    print('tabu s delay - > ',sum(tabu_delay))\n",
    "    # print('tabu s total time - ',sum(tabu_total_time))\n",
    "\n",
    "    # difference(greed_policy, tabu_policy)\n",
    "    perc_diff(delay,tabu_delay)\n",
    "\n",
    "  X_axis = np.arange(len(total_tasks))\n",
    "  plt.bar(X_axis - 0.2,greedy_delays,0.3, color='black', label = 'Greedy')\n",
    "  plt.bar(X_axis + 0.2,tabu_delays,0.3, color='green', label = 'Tabu')\n",
    "  \n",
    "  plt.xticks(X_axis, total_tasks)\n",
    "  plt.xlabel(\"Number of tasks\")\n",
    "  plt.ylabel(\"Delay in (s)\")\n",
    "  plt.title(\"Delay vs tasks\")\n",
    "  plt.legend()\n",
    "  plt.show()\n",
    "  # plt.show()\n",
    "test()"
   ]
  },
  {
   "cell_type": "code",
   "execution_count": 6,
   "metadata": {},
   "outputs": [
    {
     "name": "stdout",
     "output_type": "stream",
     "text": [
      "968.432156726412\n",
      "890.8659129486258\n",
      "824.9139869218645\n",
      "768.1486831874429\n",
      "718.7750201269654\n",
      "[250 270 290 310 330]\n",
      "[0.91682217 0.85087292 0.76427524 0.71971894 0.5262299 ]\n"
     ]
    },
    {
     "data": {
      "image/png": "[encoded data removed]",
      "text/plain": [
       "<Figure size 432x288 with 1 Axes>"
      ]
     },
     "metadata": {
      "needs_background": "light"
     },
     "output_type": "display_data"
    }
   ],
   "source": [
    "# service rate vs delay\n",
    "common_tasks=[{\"dataRate\":60,\"dataSize\":3.5,\"workload\":45},{\"dataRate\":60,\"dataSize\":3,\"workload\":30},{\"dataRate\":70,\"dataSize\":4,\"workload\":30},{\"dataRate\":70,\"dataSize\":2.5,\"workload\":45},{\"dataRate\":80,\"dataSize\":2.5,\"workload\":50},{\"dataRate\":60,\"dataSize\":2.5,\"workload\":50},{\"dataRate\":60,\"dataSize\":3.5,\"workload\":30},{\"dataRate\":50,\"dataSize\":2.5,\"workload\":35},{\"dataRate\":70,\"dataSize\":4,\"workload\":35},{\"dataRate\":90,\"dataSize\":2.5,\"workload\":35},{\"dataRate\":80,\"dataSize\":3,\"workload\":30},{\"dataRate\":90,\"dataSize\":3,\"workload\":35},{\"dataRate\":50,\"dataSize\":4,\"workload\":35},{\"dataRate\":60,\"dataSize\":3,\"workload\":30},{\"dataRate\":50,\"dataSize\":2,\"workload\":40},{\"dataRate\":50,\"dataSize\":2,\"workload\":40},{\"dataRate\":80,\"dataSize\":4,\"workload\":50},{\"dataRate\":90,\"dataSize\":2,\"workload\":30},{\"dataRate\":80,\"dataSize\":3,\"workload\":45},{\"dataRate\":60,\"dataSize\":3,\"workload\":35},{\"dataRate\":80,\"dataSize\":1.5,\"workload\":50},{\"dataRate\":90,\"dataSize\":0.5,\"workload\":45},{\"dataRate\":70,\"dataSize\":1,\"workload\":45},{\"dataRate\":90,\"dataSize\":0.5,\"workload\":40},{\"dataRate\":60,\"dataSize\":1.5,\"workload\":45},{\"dataRate\":60,\"dataSize\":2,\"workload\":40},{\"dataRate\":60,\"dataSize\":0.5,\"workload\":40},{\"dataRate\":90,\"dataSize\":2.5,\"workload\":40},{\"dataRate\":90,\"dataSize\":4,\"workload\":45},{\"dataRate\":70,\"dataSize\":1.5,\"workload\":40}];\n",
    "common_servers=[{\"buffer\":9,\"frequency\":1500,\"timeFraction\":0.75,\"arrivalRate\":40,\"serviceRate\":330,\"prev_delay\":0},{\"buffer\":4,\"frequency\":1500,\"timeFraction\":0.75,\"arrivalRate\":20,\"serviceRate\":330,\"prev_delay\":0},{\"buffer\":4,\"frequency\":2100,\"timeFraction\":0.75,\"arrivalRate\":30,\"serviceRate\":330,\"prev_delay\":0},{\"buffer\":10,\"frequency\":1800,\"timeFraction\":0.75,\"arrivalRate\":25,\"serviceRate\":330,\"prev_delay\":0},{\"buffer\":6,\"frequency\":1500,\"timeFraction\":0.75,\"arrivalRate\":25,\"serviceRate\":330,\"prev_delay\":0},{\"buffer\":9,\"frequency\":2700,\"timeFraction\":0.75,\"arrivalRate\":30,\"serviceRate\":330,\"prev_delay\":0}];\n",
    "\n",
    "# Uncomment the lines below to randomly generate common tasks and servers \n",
    "# generateTasks(30,0,0,0)\n",
    "# generateServers(6,0,0,0,250)\n",
    "\n",
    "def service_rate_vs_delay():\n",
    "  greedy_delays = []\n",
    "  tabu_delays = []\n",
    "  total_tasks = []\n",
    "  tasks = 30\n",
    "  svcRate = []\n",
    "  for i in range(5):\n",
    "    svcRate.append(250 + i* 20)\n",
    "    for  j in range(len(common_servers)):\n",
    "      common_servers[j]['serviceRate'] = 250 + i* 20\n",
    "    greed_policy, delay,total_time = greedyAlgo(tasks,common_servers,common_tasks,len(common_servers))\n",
    "    print(sum(delay))\n",
    "    greedy_delays.append(sum(delay)/1000)\n",
    "\n",
    "    tabu_policy,tabu_delay,tabu_total_time = tabu_search(common_servers,common_tasks,greed_policy,delay,tasks)\n",
    "    tabu_delays.append(sum(tabu_delay)/1000)\n",
    "\n",
    "  greedy_delays = np.array(greedy_delays)\n",
    "  tabu_delays = np.array(tabu_delays)\n",
    "  svcRate = np.array(svcRate)\n",
    "\n",
    "  print(svcRate)\n",
    "  print(tabu_delays)\n",
    "  plt.plot(svcRate, (greedy_delays), marker= '.', color = 'black', label='greedy')\n",
    "  plt.plot(svcRate, (tabu_delays), marker= '.', color = 'red', label = 'tabu')\n",
    "  plt.xlabel(\"Service Rate\")\n",
    "  plt.ylabel(\"Delay in (s)\")\n",
    "  plt.title(\"Delay vs Service rate\")\n",
    "service_rate_vs_delay()\n"
   ]
  },
  {
   "cell_type": "code",
   "execution_count": 7,
   "metadata": {},
   "outputs": [
    {
     "name": "stdout",
     "output_type": "stream",
     "text": [
      "[{'buffer': 9, 'frequency': 1500, 'timeFraction': 0.75, 'arrivalRate': 40, 'serviceRate': 330, 'prev_delay': 0}, {'buffer': 4, 'frequency': 1500, 'timeFraction': 0.75, 'arrivalRate': 20, 'serviceRate': 330, 'prev_delay': 0}, {'buffer': 4, 'frequency': 2100, 'timeFraction': 0.75, 'arrivalRate': 30, 'serviceRate': 330, 'prev_delay': 0}, {'buffer': 10, 'frequency': 1800, 'timeFraction': 0.75, 'arrivalRate': 25, 'serviceRate': 330, 'prev_delay': 0}, {'buffer': 6, 'frequency': 1500, 'timeFraction': 0.75, 'arrivalRate': 25, 'serviceRate': 330, 'prev_delay': 0}, {'buffer': 9, 'frequency': 2700, 'timeFraction': 0.75, 'arrivalRate': 30, 'serviceRate': 330, 'prev_delay': 0}]\n",
      "[{'dataRate': 60, 'dataSize': 3.5, 'workload': 45}, {'dataRate': 60, 'dataSize': 3, 'workload': 30}, {'dataRate': 70, 'dataSize': 4, 'workload': 30}, {'dataRate': 70, 'dataSize': 2.5, 'workload': 45}, {'dataRate': 80, 'dataSize': 2.5, 'workload': 50}, {'dataRate': 60, 'dataSize': 2.5, 'workload': 50}, {'dataRate': 60, 'dataSize': 3.5, 'workload': 30}, {'dataRate': 50, 'dataSize': 2.5, 'workload': 35}, {'dataRate': 70, 'dataSize': 4, 'workload': 35}, {'dataRate': 90, 'dataSize': 2.5, 'workload': 35}, {'dataRate': 80, 'dataSize': 3, 'workload': 30}, {'dataRate': 90, 'dataSize': 3, 'workload': 35}, {'dataRate': 50, 'dataSize': 4, 'workload': 35}, {'dataRate': 60, 'dataSize': 3, 'workload': 30}, {'dataRate': 50, 'dataSize': 2, 'workload': 40}, {'dataRate': 50, 'dataSize': 2, 'workload': 40}, {'dataRate': 80, 'dataSize': 4, 'workload': 50}, {'dataRate': 90, 'dataSize': 2, 'workload': 30}, {'dataRate': 80, 'dataSize': 3, 'workload': 45}, {'dataRate': 60, 'dataSize': 3, 'workload': 35}, {'dataRate': 80, 'dataSize': 1.5, 'workload': 50}, {'dataRate': 90, 'dataSize': 0.5, 'workload': 45}, {'dataRate': 70, 'dataSize': 1, 'workload': 45}, {'dataRate': 90, 'dataSize': 0.5, 'workload': 40}, {'dataRate': 60, 'dataSize': 1.5, 'workload': 45}, {'dataRate': 60, 'dataSize': 2, 'workload': 40}, {'dataRate': 60, 'dataSize': 0.5, 'workload': 40}, {'dataRate': 90, 'dataSize': 2.5, 'workload': 40}, {'dataRate': 90, 'dataSize': 4, 'workload': 45}, {'dataRate': 70, 'dataSize': 1.5, 'workload': 40}]\n"
     ]
    }
   ],
   "source": [
    "print(common_servers)\n",
    "print(common_tasks)"
   ]
  },
  {
   "cell_type": "code",
   "execution_count": 8,
   "metadata": {},
   "outputs": [],
   "source": [
    "common_tasks=[{\"dataRate\":80,\"dataSize\":4,\"workload\":30},{\"dataRate\":70,\"dataSize\":1.5,\"workload\":45},{\"dataRate\":70,\"dataSize\":2.5,\"workload\":35},{\"dataRate\":60,\"dataSize\":1,\"workload\":30},{\"dataRate\":90,\"dataSize\":3.5,\"workload\":50},{\"dataRate\":60,\"dataSize\":3.5,\"workload\":30},{\"dataRate\":60,\"dataSize\":3.5,\"workload\":40},{\"dataRate\":50,\"dataSize\":1,\"workload\":45},{\"dataRate\":90,\"dataSize\":4,\"workload\":35},{\"dataRate\":50,\"dataSize\":1,\"workload\":40},{\"dataRate\":70,\"dataSize\":2,\"workload\":50},{\"dataRate\":50,\"dataSize\":1.5,\"workload\":40},{\"dataRate\":80,\"dataSize\":4,\"workload\":35},{\"dataRate\":90,\"dataSize\":4,\"workload\":30},{\"dataRate\":90,\"dataSize\":3,\"workload\":30},{\"dataRate\":80,\"dataSize\":0.5,\"workload\":30},{\"dataRate\":90,\"dataSize\":3.5,\"workload\":45},{\"dataRate\":50,\"dataSize\":1.5,\"workload\":30},{\"dataRate\":70,\"dataSize\":1,\"workload\":45},{\"dataRate\":90,\"dataSize\":2,\"workload\":45},{\"dataRate\":60,\"dataSize\":0.5,\"workload\":50},{\"dataRate\":60,\"dataSize\":1.5,\"workload\":35},{\"dataRate\":80,\"dataSize\":3.5,\"workload\":45},{\"dataRate\":80,\"dataSize\":3,\"workload\":30},{\"dataRate\":90,\"dataSize\":3.5,\"workload\":35},{\"dataRate\":70,\"dataSize\":2.5,\"workload\":50},{\"dataRate\":60,\"dataSize\":0.5,\"workload\":30},{\"dataRate\":90,\"dataSize\":1,\"workload\":40},{\"dataRate\":70,\"dataSize\":1.5,\"workload\":30},{\"dataRate\":50,\"dataSize\":1,\"workload\":30}];\n",
    "common_servers=[{\"buffer\":5,\"frequency\":2700,\"timeFraction\":0.75,\"arrivalRate\":20,\"serviceRate\":260,\"prev_delay\":0},{\"buffer\":8,\"frequency\":1800,\"timeFraction\":0.75,\"arrivalRate\":45,\"serviceRate\":280,\"prev_delay\":0},{\"buffer\":10,\"frequency\":1500,\"timeFraction\":0.75,\"arrivalRate\":30,\"serviceRate\":290,\"prev_delay\":0},{\"buffer\":7,\"frequency\":2700,\"timeFraction\":0.75,\"arrivalRate\":35,\"serviceRate\":280,\"prev_delay\":0},{\"buffer\":9,\"frequency\":2100,\"timeFraction\":0.75,\"arrivalRate\":45,\"serviceRate\":250,\"prev_delay\":0},{\"buffer\":10,\"frequency\":2700,\"timeFraction\":0.75,\"arrivalRate\":30,\"serviceRate\":270,\"prev_delay\":0}];\n",
    "\n",
    "# Uncomment the lines below to randomly generate common tasks and servers\n",
    "# generateTasks(30,0,0,0)\n",
    "# generateServers(6,0,0,0,0)"
   ]
  },
  {
   "cell_type": "code",
   "execution_count": 9,
   "metadata": {},
   "outputs": [
    {
     "data": {
      "image/png": "[encoded data removed]",
      "text/plain": [
       "<Figure size 432x288 with 1 Axes>"
      ]
     },
     "metadata": {
      "needs_background": "light"
     },
     "output_type": "display_data"
    }
   ],
   "source": [
    "# wup vs delay\n",
    "def wup_vs_delay():\n",
    "  greedy_delays = []\n",
    "  tabu_delays = []\n",
    "  total_tasks = []\n",
    "  tasks = 30\n",
    "  wups = []\n",
    "  for i in range(5):\n",
    "    wup = 30 + i*5\n",
    "    wups.append(wup)\n",
    "    greed_policy, delay,total_time = greedyAlgo(tasks,common_servers,common_tasks,len(common_servers),wup)\n",
    "    greedy_delays.append(sum(delay)/1000)\n",
    "\n",
    "    tabu_policy,tabu_delay,tabu_total_time = tabu_search(common_servers,common_tasks,greed_policy,delay,tasks,wup)\n",
    "    tabu_delays.append(sum(tabu_delay)/1000)\n",
    "\n",
    "  greedy_delays = np.array(greedy_delays)\n",
    "  tabu_delays = np.array(tabu_delays)\n",
    "\n",
    "  wups = np.array(wups)\n",
    "  plt.plot(wups, (greedy_delays), marker= '.', color = 'black')\n",
    "  plt.plot(wups, (tabu_delays), marker= '.', color = 'red')\n",
    "wup_vs_delay()"
   ]
  },
  {
   "cell_type": "code",
   "execution_count": 10,
   "metadata": {},
   "outputs": [
    {
     "data": {
      "image/png": "[encoded data removed]",
      "text/plain": [
       "<Figure size 432x288 with 1 Axes>"
      ]
     },
     "metadata": {
      "needs_background": "light"
     },
     "output_type": "display_data"
    }
   ],
   "source": [
    "# length of queue vs delay\n",
    "common_tasks=[{\"dataRate\":70,\"dataSize\":4,\"workload\":30},{\"dataRate\":60,\"dataSize\":4,\"workload\":45},{\"dataRate\":60,\"dataSize\":3,\"workload\":50},{\"dataRate\":50,\"dataSize\":2,\"workload\":50},{\"dataRate\":50,\"dataSize\":2,\"workload\":35},{\"dataRate\":70,\"dataSize\":4,\"workload\":35},{\"dataRate\":70,\"dataSize\":2.5,\"workload\":50},{\"dataRate\":50,\"dataSize\":3,\"workload\":30},{\"dataRate\":50,\"dataSize\":1,\"workload\":35},{\"dataRate\":70,\"dataSize\":3.5,\"workload\":35},{\"dataRate\":60,\"dataSize\":1.5,\"workload\":30},{\"dataRate\":90,\"dataSize\":1,\"workload\":30},{\"dataRate\":60,\"dataSize\":2,\"workload\":30},{\"dataRate\":60,\"dataSize\":3,\"workload\":30},{\"dataRate\":90,\"dataSize\":3.5,\"workload\":30},{\"dataRate\":90,\"dataSize\":0.5,\"workload\":30},{\"dataRate\":50,\"dataSize\":0.5,\"workload\":35},{\"dataRate\":80,\"dataSize\":4,\"workload\":50},{\"dataRate\":90,\"dataSize\":1,\"workload\":40},{\"dataRate\":50,\"dataSize\":0.5,\"workload\":50},{\"dataRate\":80,\"dataSize\":3,\"workload\":30},{\"dataRate\":50,\"dataSize\":2,\"workload\":45},{\"dataRate\":90,\"dataSize\":4,\"workload\":45},{\"dataRate\":90,\"dataSize\":1,\"workload\":40},{\"dataRate\":90,\"dataSize\":2.5,\"workload\":45},{\"dataRate\":50,\"dataSize\":4,\"workload\":35},{\"dataRate\":90,\"dataSize\":3.5,\"workload\":35},{\"dataRate\":80,\"dataSize\":4,\"workload\":45},{\"dataRate\":70,\"dataSize\":1,\"workload\":30},{\"dataRate\":60,\"dataSize\":3,\"workload\":50}];\n",
    "common_servers=[{\"buffer\":9,\"frequency\":3000,\"timeFraction\":0.75,\"arrivalRate\":35,\"serviceRate\":290,\"prev_delay\":0},{\"buffer\":9,\"frequency\":3000,\"timeFraction\":0.75,\"arrivalRate\":45,\"serviceRate\":300,\"prev_delay\":0},{\"buffer\":9,\"frequency\":1500,\"timeFraction\":0.75,\"arrivalRate\":25,\"serviceRate\":280,\"prev_delay\":0},{\"buffer\":9,\"frequency\":1800,\"timeFraction\":0.75,\"arrivalRate\":35,\"serviceRate\":300,\"prev_delay\":0},{\"buffer\":9,\"frequency\":3000,\"timeFraction\":0.75,\"arrivalRate\":45,\"serviceRate\":250,\"prev_delay\":0},{\"buffer\":9,\"frequency\":1800,\"timeFraction\":0.75,\"arrivalRate\":25,\"serviceRate\":250,\"prev_delay\":0}];\n",
    "\n",
    "# Uncomment the lines below to randomly generate common tasks and servers\n",
    "# generateTasks(30,0,0,0)\n",
    "# generateServers(6,5,0,0,0)\n",
    "\n",
    "def q_vs_delay():\n",
    "  qs = []\n",
    "  greedy_delays = []\n",
    "  tabu_delays = []\n",
    "\n",
    "  for i in range(5):\n",
    "    q_length = 5 + i\n",
    "    for i in range(len(common_servers)):\n",
    "      common_servers[i]['buffer'] = q_length\n",
    "    \n",
    "    qs.append(q_length)\n",
    "    greed_policy, delay,total_time = greedyAlgo(len(common_tasks),common_servers,common_tasks,len(common_servers))\n",
    "    greedy_delays.append(sum(delay)/1000)\n",
    "\n",
    "    tabu_policy,tabu_delay,tabu_total_time = tabu_search(common_servers,common_tasks,greed_policy,delay)\n",
    "    tabu_delays.append(sum(tabu_delay)/1000)\n",
    "\n",
    "  greedy_delays = np.array(greedy_delays)\n",
    "  tabu_delays = np.array(tabu_delays)\n",
    "  qs = np.array(qs)\n",
    "\n",
    "  plt.plot(qs,greedy_delays,marker = '.', color = 'black')\n",
    "  plt.plot(qs,tabu_delays,marker = '.', color = 'red')\n",
    "\n",
    "q_vs_delay()"
   ]
  },
  {
   "cell_type": "code",
   "execution_count": null,
   "metadata": {},
   "outputs": [],
   "source": []
  }
 ],
 "metadata": {
  "colab": {
   "name": "5407 final.ipynb",
   "provenance": []
  },
  "kernelspec": {
   "display_name": "Python 3",
   "language": "python",
   "name": "python3"
  },
  "language_info": {
   "codemirror_mode": {
    "name": "ipython",
    "version": 3
   },
   "file_extension": ".py",
   "mimetype": "text/x-python",
   "name": "python",
   "nbconvert_exporter": "python",
   "pygments_lexer": "ipython3",
   "version": "3.7.6"
  }
 },
 "nbformat": 4,
 "nbformat_minor": 1
}
